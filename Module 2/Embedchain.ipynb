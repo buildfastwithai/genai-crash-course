{
  "nbformat": 4,
  "nbformat_minor": 0,
  "metadata": {
    "colab": {
      "provenance": []
    },
    "kernelspec": {
      "name": "python3",
      "display_name": "Python 3"
    },
    "language_info": {
      "name": "python"
    }
  },
  "cells": [
    {
      "cell_type": "code",
      "execution_count": null,
      "metadata": {
        "colab": {
          "base_uri": "https://localhost:8080/"
        },
        "id": "aufTFvgSAtdg",
        "outputId": "46aad747-35c2-4190-df6e-72cc7d9f6fff"
      },
      "outputs": [
        {
          "output_type": "stream",
          "name": "stdout",
          "text": [
            "  Preparing metadata (setup.py) ... \u001b[?25l\u001b[?25hdone\n",
            "\u001b[2K     \u001b[90m━━━━━━━━━━━━━━━━━━━━━━━━━━━━━━━━━━━━━━━━\u001b[0m \u001b[32m521.7/521.7 kB\u001b[0m \u001b[31m10.8 MB/s\u001b[0m eta \u001b[36m0:00:00\u001b[0m\n",
            "\u001b[2K     \u001b[90m━━━━━━━━━━━━━━━━━━━━━━━━━━━━━━━━━━━━━━━━\u001b[0m \u001b[32m509.0/509.0 kB\u001b[0m \u001b[31m17.6 MB/s\u001b[0m eta \u001b[36m0:00:00\u001b[0m\n",
            "\u001b[2K     \u001b[90m━━━━━━━━━━━━━━━━━━━━━━━━━━━━━━━━━━━━━━━━\u001b[0m \u001b[32m508.6/508.6 kB\u001b[0m \u001b[31m44.3 MB/s\u001b[0m eta \u001b[36m0:00:00\u001b[0m\n",
            "\u001b[2K     \u001b[90m━━━━━━━━━━━━━━━━━━━━━━━━━━━━━━━━━━━━━━━━\u001b[0m \u001b[32m507.7/507.7 kB\u001b[0m \u001b[31m44.7 MB/s\u001b[0m eta \u001b[36m0:00:00\u001b[0m\n",
            "\u001b[2K     \u001b[90m━━━━━━━━━━━━━━━━━━━━━━━━━━━━━━━━━━━━━━━━\u001b[0m \u001b[32m506.0/506.0 kB\u001b[0m \u001b[31m41.0 MB/s\u001b[0m eta \u001b[36m0:00:00\u001b[0m\n",
            "\u001b[2K     \u001b[90m━━━━━━━━━━━━━━━━━━━━━━━━━━━━━━━━━━━━━━━━\u001b[0m \u001b[32m502.4/502.4 kB\u001b[0m \u001b[31m46.5 MB/s\u001b[0m eta \u001b[36m0:00:00\u001b[0m\n",
            "\u001b[2K     \u001b[90m━━━━━━━━━━━━━━━━━━━━━━━━━━━━━━━━━━━━━━━━\u001b[0m \u001b[32m496.8/496.8 kB\u001b[0m \u001b[31m36.1 MB/s\u001b[0m eta \u001b[36m0:00:00\u001b[0m\n",
            "\u001b[?25h  Building wheel for wget (setup.py) ... \u001b[?25l\u001b[?25hdone\n"
          ]
        }
      ],
      "source": [
        "!pip install -qU embedchain pinecone-client pinecone-text"
      ]
    },
    {
      "cell_type": "code",
      "source": [
        "import os\n",
        "from getpass import getpass\n",
        "\n",
        "os.environ['OPENAI_API_KEY'] = getpass()\n"
      ],
      "metadata": {
        "colab": {
          "base_uri": "https://localhost:8080/"
        },
        "id": "hqLAEicOBGus",
        "outputId": "08e5fdbe-2501-4a4e-f17e-ef07de51f72e"
      },
      "execution_count": null,
      "outputs": [
        {
          "name": "stdout",
          "output_type": "stream",
          "text": [
            "··········\n"
          ]
        }
      ]
    },
    {
      "cell_type": "markdown",
      "source": [
        "## Chat with PDF"
      ],
      "metadata": {
        "id": "PwMaM-OYVBgi"
      }
    },
    {
      "cell_type": "code",
      "source": [
        "from embedchain import App\n",
        "\n",
        "customer_service_bot = App()"
      ],
      "metadata": {
        "id": "VaVjnOxaDkKq"
      },
      "execution_count": null,
      "outputs": []
    },
    {
      "cell_type": "code",
      "source": [
        "customer_service_bot.add(\"/content/CrashCourse_Info_BuildFastwithAI_Cohort2.pdf\", data_type = \"pdf_file\")\n",
        "# customer_service_bot.add(\"/content/mypdf2.pdf\", data_type = \"pdf_file\")\n",
        "# customer_service_bot.add(\"/content/mypdf3.pdf\", data_type = \"pdf_file\")"
      ],
      "metadata": {
        "colab": {
          "base_uri": "https://localhost:8080/",
          "height": 90
        },
        "id": "5kJ803vUD7OG",
        "outputId": "2e48f555-268f-43a3-c225-8635a5d669cf"
      },
      "execution_count": null,
      "outputs": [
        {
          "output_type": "stream",
          "name": "stderr",
          "text": [
            "Inserting batches in chromadb: 100%|██████████| 1/1 [00:00<00:00,  2.03it/s]"
          ]
        },
        {
          "output_type": "stream",
          "name": "stdout",
          "text": [
            "Successfully saved /content/CrashCourse_Info_BuildFastwithAI_Cohort2.pdf (DataType.PDF_FILE). New chunks count: 16\n"
          ]
        },
        {
          "output_type": "stream",
          "name": "stderr",
          "text": [
            "\n"
          ]
        },
        {
          "output_type": "execute_result",
          "data": {
            "text/plain": [
              "'b0527fad12c6df396d15609072b4516a'"
            ],
            "application/vnd.google.colaboratory.intrinsic+json": {
              "type": "string"
            }
          },
          "metadata": {},
          "execution_count": 4
        }
      ]
    },
    {
      "cell_type": "code",
      "source": [
        "customer_service_bot.query(\"What is the name of the mentor of the course?\")"
      ],
      "metadata": {
        "colab": {
          "base_uri": "https://localhost:8080/",
          "height": 35
        },
        "id": "4ZFzTF4dE60t",
        "outputId": "e172d6e4-b918-485f-decf-5551d86b3a82"
      },
      "execution_count": null,
      "outputs": [
        {
          "output_type": "execute_result",
          "data": {
            "text/plain": [
              "'The mentor of the course is Satvik.'"
            ],
            "application/vnd.google.colaboratory.intrinsic+json": {
              "type": "string"
            }
          },
          "metadata": {},
          "execution_count": 6
        }
      ]
    },
    {
      "cell_type": "markdown",
      "source": [
        "## Chat with YouTube Video"
      ],
      "metadata": {
        "id": "qm9pvMaJUrRR"
      }
    },
    {
      "cell_type": "code",
      "source": [
        "!pip install -qU youtube-transcript-api pytube"
      ],
      "metadata": {
        "id": "Z8lwIKNfU--p",
        "colab": {
          "base_uri": "https://localhost:8080/"
        },
        "outputId": "a5192fda-c3e4-4ef5-f7c3-ac832c8a1a85"
      },
      "execution_count": null,
      "outputs": [
        {
          "output_type": "stream",
          "name": "stdout",
          "text": [
            "\u001b[?25l     \u001b[90m━━━━━━━━━━━━━━━━━━━━━━━━━━━━━━━━━━━━━━━━\u001b[0m \u001b[32m0.0/57.6 kB\u001b[0m \u001b[31m?\u001b[0m eta \u001b[36m-:--:--\u001b[0m\r\u001b[2K     \u001b[90m━━━━━━━━━━━━━━━━━━━━━━━━━━━━━━━━━━━━━━━━\u001b[0m \u001b[32m57.6/57.6 kB\u001b[0m \u001b[31m3.0 MB/s\u001b[0m eta \u001b[36m0:00:00\u001b[0m\n",
            "\u001b[?25h"
          ]
        }
      ]
    },
    {
      "cell_type": "code",
      "source": [
        "from embedchain import Pipeline as App\n",
        "\n",
        "yt_bot = App()"
      ],
      "metadata": {
        "id": "ofXzn0kxUnl_"
      },
      "execution_count": null,
      "outputs": []
    },
    {
      "cell_type": "code",
      "source": [
        "yt_bot.add(\"https://www.youtube.com/watch?v=ZExGV6jSuBw\")"
      ],
      "metadata": {
        "colab": {
          "base_uri": "https://localhost:8080/",
          "height": 90
        },
        "id": "L-U2tKF2T2OT",
        "outputId": "4342a074-fede-414a-ff99-48b8f3a39ffb"
      },
      "execution_count": null,
      "outputs": [
        {
          "output_type": "stream",
          "name": "stderr",
          "text": [
            "Inserting batches in chromadb: 100%|██████████| 1/1 [00:00<00:00,  1.83it/s]"
          ]
        },
        {
          "output_type": "stream",
          "name": "stdout",
          "text": [
            "Successfully saved https://www.youtube.com/watch?v=ZExGV6jSuBw (DataType.YOUTUBE_VIDEO). New chunks count: 3\n"
          ]
        },
        {
          "output_type": "stream",
          "name": "stderr",
          "text": [
            "\n"
          ]
        },
        {
          "output_type": "execute_result",
          "data": {
            "text/plain": [
              "'98d665d2a9aa528c90426afc9ae7fe2f'"
            ],
            "application/vnd.google.colaboratory.intrinsic+json": {
              "type": "string"
            }
          },
          "metadata": {},
          "execution_count": 5
        }
      ]
    },
    {
      "cell_type": "code",
      "source": [
        "yt_bot.query(\"What is the summary of the video?\")"
      ],
      "metadata": {
        "colab": {
          "base_uri": "https://localhost:8080/",
          "height": 105
        },
        "id": "vxm9royPUB58",
        "outputId": "15f82da2-2e07-4507-92fc-eb642c4af1c0"
      },
      "execution_count": null,
      "outputs": [
        {
          "output_type": "execute_result",
          "data": {
            "text/plain": [
              "\"The development of microwave technology stemmed from Percy Spencer's accidental discovery while working with RADAR technology during World War II. Microwaves interact with water molecules in food, causing them to vibrate and generate heat through friction. The microwave oven operates by emitting electromagnetic microwaves that penetrate food and heat it without altering its chemical composition. While microwaving metal can be dangerous due to the concentration of electrons on the surface, some metal objects can be safely used in the microwave for cooking purposes.\""
            ],
            "application/vnd.google.colaboratory.intrinsic+json": {
              "type": "string"
            }
          },
          "metadata": {},
          "execution_count": 6
        }
      ]
    },
    {
      "cell_type": "code",
      "source": [
        "yt_bot.query(\"What can I learn from this?\")"
      ],
      "metadata": {
        "id": "o1ALnZyCU8Sx",
        "colab": {
          "base_uri": "https://localhost:8080/",
          "height": 105
        },
        "outputId": "408a254a-5186-41bd-c2f5-37c67b75485e"
      },
      "execution_count": null,
      "outputs": [
        {
          "output_type": "execute_result",
          "data": {
            "text/plain": [
              "'The information provided explains how microwave ovens work by utilizing electromagnetic microwaves to make water molecules in food vibrate, creating frictional heat. It also clarifies that microwaves heat food mechanically, not chemically, and that microwave radiation is not harmful as it does not alter chemical bonds. Additionally, it discusses the potential dangers of microwaving metal due to the concentration of electrons on the surface, which can lead to sparking in certain conditions.'"
            ],
            "application/vnd.google.colaboratory.intrinsic+json": {
              "type": "string"
            }
          },
          "metadata": {},
          "execution_count": 7
        }
      ]
    },
    {
      "cell_type": "code",
      "source": [],
      "metadata": {
        "colab": {
          "base_uri": "https://localhost:8080/",
          "height": 176
        },
        "id": "D76Rwm2GNrsB",
        "outputId": "b466df20-8e64-4014-da06-edcb7809a8d6"
      },
      "execution_count": null,
      "outputs": [
        {
          "output_type": "error",
          "ename": "NameError",
          "evalue": "name 'ChatOpenAI' is not defined",
          "traceback": [
            "\u001b[0;31m---------------------------------------------------------------------------\u001b[0m",
            "\u001b[0;31mNameError\u001b[0m                                 Traceback (most recent call last)",
            "\u001b[0;32m<ipython-input-8-922f522c6fd7>\u001b[0m in \u001b[0;36m<cell line: 1>\u001b[0;34m()\u001b[0m\n\u001b[0;32m----> 1\u001b[0;31m \u001b[0mllm\u001b[0m \u001b[0;34m=\u001b[0m \u001b[0mChatOpenAI\u001b[0m\u001b[0;34m(\u001b[0m\u001b[0;34m)\u001b[0m\u001b[0;34m\u001b[0m\u001b[0;34m\u001b[0m\u001b[0m\n\u001b[0m\u001b[1;32m      2\u001b[0m \u001b[0;34m\u001b[0m\u001b[0m\n\u001b[1;32m      3\u001b[0m \u001b[0mllm\u001b[0m\u001b[0;34m.\u001b[0m\u001b[0minvoke\u001b[0m\u001b[0;34m\u001b[0m\u001b[0;34m\u001b[0m\u001b[0m\n",
            "\u001b[0;31mNameError\u001b[0m: name 'ChatOpenAI' is not defined"
          ]
        }
      ]
    },
    {
      "cell_type": "markdown",
      "source": [
        "## RAG with Data Filtering\n"
      ],
      "metadata": {
        "id": "AKIWMqwypeIp"
      }
    },
    {
      "cell_type": "code",
      "source": [
        "import os\n",
        "from google.colab import userdata\n",
        "\n",
        "os.environ[\"OPENAI_API_KEY\"] = userdata.get('OPENAI_API_KEY')\n",
        "os.environ[\"PINECONE_API_KEY\"] = userdata.get('PINECONE_API_KEY')"
      ],
      "metadata": {
        "id": "_-5IgAAMOo_3"
      },
      "execution_count": null,
      "outputs": []
    },
    {
      "cell_type": "code",
      "source": [],
      "metadata": {
        "id": "_HkyKxyst0_I"
      },
      "execution_count": null,
      "outputs": []
    },
    {
      "cell_type": "code",
      "source": [],
      "metadata": {
        "id": "SJaGLVJ2wMRU"
      },
      "execution_count": null,
      "outputs": []
    },
    {
      "cell_type": "code",
      "source": [
        "from embedchain import App\n",
        "\n",
        "config = {\n",
        "    \"vectordb\" : {\n",
        "        \"provider\" : \"pinecone\",\n",
        "        \"config\" : {\n",
        "            \"metric\" : \"dotproduct\",\n",
        "            \"vector_dimesion\" : 1536,\n",
        "            \"index_name\" : \"ec-test\",\n",
        "            \"serverless_config\" : {\"cloud\": \"aws\", \"region\" : \"us-west-2\"}\n",
        "        }\n",
        "    }\n",
        "}\n",
        "\n",
        "app = App.from_config(config = config)"
      ],
      "metadata": {
        "id": "Mqj1er6MqCgf"
      },
      "execution_count": null,
      "outputs": []
    },
    {
      "cell_type": "code",
      "source": [
        "app.add(\"https://www.forbes.com/profile/bill-gates\",\n",
        "        metadata={\"type\": \"forbes\", \"person\": \"gates\", \"year\": 2022})\n",
        "app.add(\"https://en.wikipedia.org/wiki/Bill_Gates\",\n",
        "        metadata={\"type\": \"wiki\", \"person\": \"gates\", \"year\": 2024})\n",
        "app.add(\"https://www.forbes.com/profile/elon-musk\",\n",
        "        metadata={\"type\": \"forbes\", \"person\": \"elon\", \"year\": 2024})\n",
        "app.add(\"https://en.wikipedia.org/wiki/Elon_Musk\",\n",
        "        metadata={\"type\": \"wiki\", \"person\": \"elon\", \"year\": 2022})"
      ],
      "metadata": {
        "colab": {
          "base_uri": "https://localhost:8080/",
          "height": 198
        },
        "id": "BwLXghVfqrsd",
        "outputId": "764d8df4-4476-45cb-b9a8-dc1c5cde703a"
      },
      "execution_count": null,
      "outputs": [
        {
          "output_type": "stream",
          "name": "stderr",
          "text": [
            "Adding chunks in batches: 100%|██████████| 4/4 [00:00<00:00,  9.97batch/s]\n"
          ]
        },
        {
          "output_type": "stream",
          "name": "stdout",
          "text": [
            "Successfully saved https://www.forbes.com/profile/bill-gates (DataType.WEB_PAGE). New chunks count: 0\n"
          ]
        },
        {
          "output_type": "stream",
          "name": "stderr",
          "text": [
            "Adding chunks in batches: 100%|██████████| 70/70 [00:01<00:00, 65.00batch/s]\n"
          ]
        },
        {
          "output_type": "stream",
          "name": "stdout",
          "text": [
            "Successfully saved https://en.wikipedia.org/wiki/Bill_Gates (DataType.WEB_PAGE). New chunks count: 0\n"
          ]
        },
        {
          "output_type": "stream",
          "name": "stderr",
          "text": [
            "Adding chunks in batches: 100%|██████████| 4/4 [00:00<00:00, 27.47batch/s]\n"
          ]
        },
        {
          "output_type": "stream",
          "name": "stdout",
          "text": [
            "Successfully saved https://www.forbes.com/profile/elon-musk (DataType.WEB_PAGE). New chunks count: 0\n"
          ]
        },
        {
          "output_type": "stream",
          "name": "stderr",
          "text": [
            "Adding chunks in batches: 100%|██████████| 98/98 [00:01<00:00, 73.80batch/s]"
          ]
        },
        {
          "output_type": "stream",
          "name": "stdout",
          "text": [
            "Successfully saved https://en.wikipedia.org/wiki/Elon_Musk (DataType.WEB_PAGE). New chunks count: 0\n"
          ]
        },
        {
          "output_type": "stream",
          "name": "stderr",
          "text": [
            "\n"
          ]
        },
        {
          "output_type": "execute_result",
          "data": {
            "text/plain": [
              "'1eab8dd1ffa92906f7fc839862871ca5'"
            ],
            "application/vnd.google.colaboratory.intrinsic+json": {
              "type": "string"
            }
          },
          "metadata": {},
          "execution_count": 10
        }
      ]
    },
    {
      "cell_type": "code",
      "source": [
        "# part 3\n",
        "print(\"Filter with person: gates\")\n",
        "results = app.search(\"What is the net worth of Bill Gates?\", where={\"person\": \"gates\"})\n",
        "\n"
      ],
      "metadata": {
        "id": "5jdrZ4qPwRcI"
      },
      "execution_count": null,
      "outputs": []
    },
    {
      "cell_type": "code",
      "source": [
        "results = app.query(\"What is the net worth of Bill Gates?\", where = {\"year\" : 2022} )\n",
        "results"
      ],
      "metadata": {
        "colab": {
          "base_uri": "https://localhost:8080/",
          "height": 35
        },
        "id": "j_LnXE_Dwres",
        "outputId": "aa279bac-77e8-4f7e-a601-34341cad7fbc"
      },
      "execution_count": null,
      "outputs": [
        {
          "output_type": "execute_result",
          "data": {
            "text/plain": [
              "'Bill Gates has a real-time net worth of $129.9 billion as of 3/18/24.'"
            ],
            "application/vnd.google.colaboratory.intrinsic+json": {
              "type": "string"
            }
          },
          "metadata": {},
          "execution_count": 14
        }
      ]
    },
    {
      "cell_type": "code",
      "source": [
        "results = app.query(\"What is the net worth of Bill Gates?\", where = {\"year\" : 2024} )\n",
        "results"
      ],
      "metadata": {
        "colab": {
          "base_uri": "https://localhost:8080/",
          "height": 35
        },
        "id": "pkFXY2zjw2QD",
        "outputId": "3c252075-5a4e-473c-8115-aa893d4f222d"
      },
      "execution_count": null,
      "outputs": [
        {
          "output_type": "execute_result",
          "data": {
            "text/plain": [
              "\"Bill Gates' net worth is about US$148 billion as of February 2024.\""
            ],
            "application/vnd.google.colaboratory.intrinsic+json": {
              "type": "string"
            }
          },
          "metadata": {},
          "execution_count": 13
        }
      ]
    },
    {
      "cell_type": "code",
      "source": [
        "print(\"Filter with person: elon and type: forbes\")\n",
        "results = app.search(\"What is the net worth of Bill Gates?\", where={\"person\": \"elon\", \"type\": \"forbes\"})\n",
        "results"
      ],
      "metadata": {
        "colab": {
          "base_uri": "https://localhost:8080/"
        },
        "id": "H3MhY0Z1wifd",
        "outputId": "10ac184a-5444-48bc-8267-5c0f28cfe289"
      },
      "execution_count": null,
      "outputs": [
        {
          "output_type": "stream",
          "name": "stdout",
          "text": [
            "Filter with person: elon and type: forbes\n"
          ]
        },
        {
          "output_type": "execute_result",
          "data": {
            "text/plain": [
              "[{'context': \"Elon Musk PROFILEElon MuskCEO, Tesla$194.2B$5.8B (3.06%)Real Time Net Worthas of 3/18/24Reflects change since 5 pm ET of prior trading day. 2 in the world todayPhoto by Martin Schoeller for ForbesAbout Elon MuskElon Musk cofounded six companies, including electric car maker Tesla, rocket producer SpaceX and tunneling startup Boring Company.He owns about 21% of Tesla between stock and options, but has pledged more than half his shares as collateral for personal loans of up to $3.5 billion.SpaceX, founded in 2002, is worth nearly $150 billion after a $750 million tender offer in June 2023; it nearly quintupled its value in four years.Boring Company, which aims to defeat traffic, raised $675 million in April 2022 at a $5.7 billion valuation.Twitter's board agreed to sell the company to Musk for $44 billion in April 2022, after he disclosed a 9.1% stake and threatened a hostile takeover.The deal closed in October 2022 after Musk tried to back out and Twitter sued. Musk owns an estimated 74% of the company, which is now called X.Wealth HistoryHOVER TO REVEAL NET WORTH BY YEARForbes Lists 1Forbes 400 (2023)The Richest Person In Every State (2023) 2Billionaires (2023) 1Innovative Leaders (2019) 25Powerful People (2018) 12Richest In Tech (2017)Global Game Changers (2016)More ListsPersonal StatsAge52Source of WealthTesla, SpaceX, Self MadeSelf-Made Score8Philanthropy Score1ResidenceAustin, TexasCitizenshipUnited StatesMarital StatusSingleChildren11EducationBachelor of Arts/Science, University of PennsylvaniaDid you knowMusk, who says he's worried about population collapse, has ten children with three women, including triplets and two sets of twins.As a kid in South Africa, Musk taught himself to code; he sold his first game, Blastar, for about $500.In Their Own WordsI operate on the physics approach to analysis. You boil things down to the first principles or fundamental truths in a particular area and then you reason up from there.Elon MuskRelated People & CompaniesPeter\",\n",
              "  'metadata': {'app_id': 'default-app-id',\n",
              "   'data_type': 'web_page',\n",
              "   'doc_id': 'default-app-id--3a86ebc49398a5e452f42f56cf4aee89c8ded9c200ccf3935504828b156dbb80',\n",
              "   'hash': '8cf46026cabf9b05394a2658bd1fe890',\n",
              "   'person': 'elon',\n",
              "   'text': \"Elon Musk PROFILEElon MuskCEO, Tesla$194.2B$5.8B (3.06%)Real Time Net Worthas of 3/18/24Reflects change since 5 pm ET of prior trading day. 2 in the world todayPhoto by Martin Schoeller for ForbesAbout Elon MuskElon Musk cofounded six companies, including electric car maker Tesla, rocket producer SpaceX and tunneling startup Boring Company.He owns about 21% of Tesla between stock and options, but has pledged more than half his shares as collateral for personal loans of up to $3.5 billion.SpaceX, founded in 2002, is worth nearly $150 billion after a $750 million tender offer in June 2023; it nearly quintupled its value in four years.Boring Company, which aims to defeat traffic, raised $675 million in April 2022 at a $5.7 billion valuation.Twitter's board agreed to sell the company to Musk for $44 billion in April 2022, after he disclosed a 9.1% stake and threatened a hostile takeover.The deal closed in October 2022 after Musk tried to back out and Twitter sued. Musk owns an estimated 74% of the company, which is now called X.Wealth HistoryHOVER TO REVEAL NET WORTH BY YEARForbes Lists 1Forbes 400 (2023)The Richest Person In Every State (2023) 2Billionaires (2023) 1Innovative Leaders (2019) 25Powerful People (2018) 12Richest In Tech (2017)Global Game Changers (2016)More ListsPersonal StatsAge52Source of WealthTesla, SpaceX, Self MadeSelf-Made Score8Philanthropy Score1ResidenceAustin, TexasCitizenshipUnited StatesMarital StatusSingleChildren11EducationBachelor of Arts/Science, University of PennsylvaniaDid you knowMusk, who says he's worried about population collapse, has ten children with three women, including triplets and two sets of twins.As a kid in South Africa, Musk taught himself to code; he sold his first game, Blastar, for about $500.In Their Own WordsI operate on the physics approach to analysis. You boil things down to the first principles or fundamental truths in a particular area and then you reason up from there.Elon MuskRelated People & CompaniesPeter\",\n",
              "   'type': 'forbes',\n",
              "   'url': 'https://www.forbes.com/profile/elon-musk',\n",
              "   'year': 2024.0,\n",
              "   'score': 0.809113741}},\n",
              " {'context': \"November.ByJamie CarterSenior ContributorMar 13, 2024Tesla’s Stock Dip Drops Elon Musk Behind Bezos To World’s Third-Richest PersonMusk’s net worth is down almost $60 billion in 2024 alone, according to Forbes’ estimates, as Tesla stock tanked and a judge swatted down Musk’s record compensation package.ByDerek SaulForbes StaffMar 13, 2024‘Elon Musk Is Mad At Me’: Don Lemon Says Musk Canceled Content Partnership After InterviewThe former CNN anchor says “my questions were respectful and wide ranging.clearly he felt differently.ByMark JoyellaSenior ContributorMar 13, 2024Don Lemon Says Elon Musk Canceled X Show After Tough InterviewDon Lemon announced the show in January, and later said his first guest would be X owner Elon Musk.ByBrian BushardForbes StaffMar 12, 2024Donald Trump Discussed Selling Truth Social To Elon Musk, Report SaysTrump reportedly made the offer before the SEC approved a deal to take the social network public.ByZachary FolkForbes StaffMar 11, 2024Elon Musk's Chatbot Grok To Go Open-Source—Here's What To KnowBillionaire Elon Musk said xAI’s Grok will become open-source this week, rivaling ChatGPT.ByBrian BushardForbes StaffMar 7, 2024Elon Musk’s Lawsuit Against OpenAI Sparks Debate Over AI TransparencyThe controversy began when Elon Musk, the CEO of Tesla and SpaceX, filed a lawsuit against OpenAI, alleging the company had misused his contributions.ByJemma GreenContributorMar 6, 2024Jeff Bezos Briefly Overtakes Elon Musk As U.S.’ Richest PersonIt’s the first time since August 2021 that Musk isn’t among Forbes’ two richest people in the world. ByDerek SaulForbes StaffMar 6, 2024Elon Musk Won’t Donate To Biden Or Trump In 2024 RaceBillionaire Elon Musk said he will not donate money to “either candidate for US President.”ByBrian BushardForbes StaffMore Articlesalso on forbesElon Musk Passes Jeff Bezos As Richest Person In U.S.—AgainElon Musk Says Future SpaceX Starship ‘Will Travel To Other Star Systems’ After Rocket’s Latest TestElon Musk’s SpaceX\",\n",
              "  'metadata': {'app_id': 'default-app-id',\n",
              "   'data_type': 'web_page',\n",
              "   'doc_id': 'default-app-id--3a86ebc49398a5e452f42f56cf4aee89c8ded9c200ccf3935504828b156dbb80',\n",
              "   'hash': '8cf46026cabf9b05394a2658bd1fe890',\n",
              "   'person': 'elon',\n",
              "   'text': \"November.ByJamie CarterSenior ContributorMar 13, 2024Tesla’s Stock Dip Drops Elon Musk Behind Bezos To World’s Third-Richest PersonMusk’s net worth is down almost $60 billion in 2024 alone, according to Forbes’ estimates, as Tesla stock tanked and a judge swatted down Musk’s record compensation package.ByDerek SaulForbes StaffMar 13, 2024‘Elon Musk Is Mad At Me’: Don Lemon Says Musk Canceled Content Partnership After InterviewThe former CNN anchor says “my questions were respectful and wide ranging.clearly he felt differently.ByMark JoyellaSenior ContributorMar 13, 2024Don Lemon Says Elon Musk Canceled X Show After Tough InterviewDon Lemon announced the show in January, and later said his first guest would be X owner Elon Musk.ByBrian BushardForbes StaffMar 12, 2024Donald Trump Discussed Selling Truth Social To Elon Musk, Report SaysTrump reportedly made the offer before the SEC approved a deal to take the social network public.ByZachary FolkForbes StaffMar 11, 2024Elon Musk's Chatbot Grok To Go Open-Source—Here's What To KnowBillionaire Elon Musk said xAI’s Grok will become open-source this week, rivaling ChatGPT.ByBrian BushardForbes StaffMar 7, 2024Elon Musk’s Lawsuit Against OpenAI Sparks Debate Over AI TransparencyThe controversy began when Elon Musk, the CEO of Tesla and SpaceX, filed a lawsuit against OpenAI, alleging the company had misused his contributions.ByJemma GreenContributorMar 6, 2024Jeff Bezos Briefly Overtakes Elon Musk As U.S.’ Richest PersonIt’s the first time since August 2021 that Musk isn’t among Forbes’ two richest people in the world. ByDerek SaulForbes StaffMar 6, 2024Elon Musk Won’t Donate To Biden Or Trump In 2024 RaceBillionaire Elon Musk said he will not donate money to “either candidate for US President.”ByBrian BushardForbes StaffMore Articlesalso on forbesElon Musk Passes Jeff Bezos As Richest Person In U.S.—AgainElon Musk Says Future SpaceX Starship ‘Will Travel To Other Star Systems’ After Rocket’s Latest TestElon Musk’s SpaceX\",\n",
              "   'type': 'forbes',\n",
              "   'url': 'https://www.forbes.com/profile/elon-musk',\n",
              "   'year': 2024.0,\n",
              "   'score': 0.783815742}},\n",
              " {'context': 'ThielCofounderView ProfileTeslaHolds stake in TeslaView ProfileUniversity of PennsylvaniaAttended the schoolView ProfileReid HoffmanView ProfileRobyn DenholmRelated by employment: TeslaView ProfileLarry EllisonRelated by financial asset: TeslaView ProfileSee MoreSee LessMore on Forbes10 hours agoElon Musk Passes Jeff Bezos As Richest Person In U.S.—AgainElon Musk overtook Amazon’s Jeff Bezos for the No. 2 spot on Monday after Tesla stock increased more than 5%. ByMolly BohannonForbes Staff16 hours agoElon Musk Says Future SpaceX Starship ‘Will Travel To Other Star Systems’ After Rocket’s Latest Test“Starship will be on Mars within 5 years,” Musk said, adding that “a future Starship, much larger and more advanced, will travel to other star systems.” ByRobert HartForbes StaffMar 16, 2024Elon Musk’s SpaceX Developing Spy Satellite Network For The U.S., Report SaysA contract between SpaceX and the U.S. is worth $1.8 billion, Reuters reported.ByTy RoushForbes StaffMar 14, 2024This Week In Credit Card News: Elon Musk’s X May Offer Payment FeatureWhat took place this week in the credit card and payment industriesByBill HardekopfContributorMar 14, 2024Elon Musk Is No Speech Champion After Canceling Deal With Don LemonX could be the bigger loser, especially as the interview will still air on a competing platform. ByPeter SuciuContributorMar 14, 2024Elon Musk Hints Dogecoin Payment For Teslas ‘At Some Point’—Meme Currency Soars“Dogecoin to the moon,” Musk told a cheering crowd at the arson-hit Tesla factory near Berlin. ByRobert HartForbes StaffMar 13, 2024Elon Musk Says He’s ‘Leaning Away From Biden’ In Don Lemon InterviewMusk met with Donald Trump last week, but claimed Wednesday the former president did “most of the talking.”ByAntonio Pequeño IVForbes StaffMar 13, 2024Elon Musk’s SpaceX Starship Reaches Space For First TimeAiming for a historic first will be SpaceX’s Starship vehicle atop its Super Heavy booster, which last flew—for just eight minutes—last',\n",
              "  'metadata': {'app_id': 'default-app-id',\n",
              "   'data_type': 'web_page',\n",
              "   'doc_id': 'default-app-id--3a86ebc49398a5e452f42f56cf4aee89c8ded9c200ccf3935504828b156dbb80',\n",
              "   'hash': '8cf46026cabf9b05394a2658bd1fe890',\n",
              "   'person': 'elon',\n",
              "   'text': 'ThielCofounderView ProfileTeslaHolds stake in TeslaView ProfileUniversity of PennsylvaniaAttended the schoolView ProfileReid HoffmanView ProfileRobyn DenholmRelated by employment: TeslaView ProfileLarry EllisonRelated by financial asset: TeslaView ProfileSee MoreSee LessMore on Forbes10 hours agoElon Musk Passes Jeff Bezos As Richest Person In U.S.—AgainElon Musk overtook Amazon’s Jeff Bezos for the No. 2 spot on Monday after Tesla stock increased more than 5%. ByMolly BohannonForbes Staff16 hours agoElon Musk Says Future SpaceX Starship ‘Will Travel To Other Star Systems’ After Rocket’s Latest Test“Starship will be on Mars within 5 years,” Musk said, adding that “a future Starship, much larger and more advanced, will travel to other star systems.” ByRobert HartForbes StaffMar 16, 2024Elon Musk’s SpaceX Developing Spy Satellite Network For The U.S., Report SaysA contract between SpaceX and the U.S. is worth $1.8 billion, Reuters reported.ByTy RoushForbes StaffMar 14, 2024This Week In Credit Card News: Elon Musk’s X May Offer Payment FeatureWhat took place this week in the credit card and payment industriesByBill HardekopfContributorMar 14, 2024Elon Musk Is No Speech Champion After Canceling Deal With Don LemonX could be the bigger loser, especially as the interview will still air on a competing platform. ByPeter SuciuContributorMar 14, 2024Elon Musk Hints Dogecoin Payment For Teslas ‘At Some Point’—Meme Currency Soars“Dogecoin to the moon,” Musk told a cheering crowd at the arson-hit Tesla factory near Berlin. ByRobert HartForbes StaffMar 13, 2024Elon Musk Says He’s ‘Leaning Away From Biden’ In Don Lemon InterviewMusk met with Donald Trump last week, but claimed Wednesday the former president did “most of the talking.”ByAntonio Pequeño IVForbes StaffMar 13, 2024Elon Musk’s SpaceX Starship Reaches Space For First TimeAiming for a historic first will be SpaceX’s Starship vehicle atop its Super Heavy booster, which last flew—for just eight minutes—last',\n",
              "   'type': 'forbes',\n",
              "   'url': 'https://www.forbes.com/profile/elon-musk',\n",
              "   'year': 2024.0,\n",
              "   'score': 0.773698211}}]"
            ]
          },
          "metadata": {},
          "execution_count": 11
        }
      ]
    },
    {
      "cell_type": "code",
      "source": [],
      "metadata": {
        "id": "bVP62y1XwkPk"
      },
      "execution_count": null,
      "outputs": []
    }
  ]
}